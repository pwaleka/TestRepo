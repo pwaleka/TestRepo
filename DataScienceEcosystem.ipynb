{
 "cells": [
  {
   "cell_type": "markdown",
   "id": "1c40be51-853d-4cd6-a150-e02ec84e987e",
   "metadata": {},
   "source": [
    "# Data Science Tools and Ecosystem"
   ]
  },
  {
   "cell_type": "markdown",
   "id": "9e0e0fc0-fd59-44d9-990e-1aa4da7ecd08",
   "metadata": {},
   "source": [
    "In this notebook, Data Science Tools and Ecosystem are summarized."
   ]
  },
  {
   "cell_type": "markdown",
   "id": "bda54ea3-c696-4f92-86fc-f6093c87c1c4",
   "metadata": {},
   "source": [
    "Some takeaways from this Lab\n",
    "1. Working with Jupyter Notebook\n",
    "2. How to create cells - either as code or markdown\n",
    "3. Share the notebook in GitHub"
   ]
  },
  {
   "cell_type": "markdown",
   "id": "fda35261-20c6-4459-b484-3e3cb0bb8175",
   "metadata": {},
   "source": [
    "Some of the popular languages that Data Scientists use are:\n",
    "1. Python (most popular)\n",
    "2. R\n",
    "3. JAVA"
   ]
  },
  {
   "cell_type": "markdown",
   "id": "0ec914f3-8b04-4ae0-b1f6-f744b6410ad1",
   "metadata": {},
   "source": [
    "Some of the commonly used libraries used by Data Scientists include:\n",
    "1. Pandas\n",
    "2. NumPy\n",
    "3. scikit-learn\n",
    "4. and many more"
   ]
  },
  {
   "cell_type": "markdown",
   "id": "e3836bb5-da0c-4629-9f6b-2ad4480c0328",
   "metadata": {},
   "source": [
    "| Data Science Tools |\n",
    "| :- |\n",
    "| Jupyter notebook |\n",
    "| RStudio |\n",
    "| GitHub |"
   ]
  },
  {
   "cell_type": "markdown",
   "id": "65ac2095-80d3-45cf-819f-72a9260ab829",
   "metadata": {},
   "source": [
    "### Below are a few examples of evaluating arithmetic expressions in Python."
   ]
  },
  {
   "cell_type": "markdown",
   "id": "ad99614d-2d7a-4d3e-9447-976541148aca",
   "metadata": {},
   "source": [
    "This a simple arithmetic expression to mutiply then add integers"
   ]
  },
  {
   "cell_type": "code",
   "execution_count": 5,
   "id": "48ff0c13-1ade-4792-b68a-182bff547ea4",
   "metadata": {},
   "outputs": [
    {
     "data": {
      "text/plain": [
       "17"
      ]
     },
     "execution_count": 5,
     "metadata": {},
     "output_type": "execute_result"
    }
   ],
   "source": [
    "(3*4)+5"
   ]
  },
  {
   "cell_type": "markdown",
   "id": "91517903-0683-4266-9a39-8345e085e51f",
   "metadata": {},
   "source": [
    "This will convert 200 minutes to hours by diving by 60."
   ]
  },
  {
   "cell_type": "code",
   "execution_count": 6,
   "id": "53ccb609-a935-4483-acc1-1984bc3ce4af",
   "metadata": {},
   "outputs": [
    {
     "name": "stdout",
     "output_type": "stream",
     "text": [
      "200 minutes is equal to 3.33 hours.\n"
     ]
    }
   ],
   "source": [
    "minutes = 200\n",
    "hours = minutes / 60\n",
    "print(f\"{minutes} minutes is equal to {hours:.2f} hours.\")"
   ]
  },
  {
   "cell_type": "markdown",
   "id": "02bb65f3-48c9-42bf-8011-dca629909f1d",
   "metadata": {},
   "source": [
    "##Author: Pawel Waleka"
   ]
  },
  {
   "cell_type": "code",
   "execution_count": null,
   "id": "9257dab3-fc83-402f-8853-bc6f449392a0",
   "metadata": {},
   "outputs": [],
   "source": []
  }
 ],
 "metadata": {
  "kernelspec": {
   "display_name": "Python 3 (ipykernel)",
   "language": "python",
   "name": "python3"
  },
  "language_info": {
   "codemirror_mode": {
    "name": "ipython",
    "version": 3
   },
   "file_extension": ".py",
   "mimetype": "text/x-python",
   "name": "python",
   "nbconvert_exporter": "python",
   "pygments_lexer": "ipython3",
   "version": "3.12.7"
  }
 },
 "nbformat": 4,
 "nbformat_minor": 5
}
